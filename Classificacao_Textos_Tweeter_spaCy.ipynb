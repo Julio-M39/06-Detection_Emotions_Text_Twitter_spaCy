{
 "cells": [
  {
   "cell_type": "markdown",
   "id": "37411fde",
   "metadata": {},
   "source": [
    "### Classificação de textos do Twitter com spaCy"
   ]
  },
  {
   "cell_type": "markdown",
   "id": "ccf0837b",
   "metadata": {},
   "source": [
    "### Etapa 1: Importação das bibliotecas"
   ]
  },
  {
   "cell_type": "code",
   "execution_count": 8,
   "id": "acad2316",
   "metadata": {},
   "outputs": [],
   "source": [
    "import spacy\n",
    "import pandas as pd\n",
    "import string\n",
    "import spacy\n",
    "import random\n",
    "import seaborn as sns\n",
    "import numpy as np\n",
    "import re\n",
    "import warnings\n",
    "warnings.filterwarnings('ignore')"
   ]
  },
  {
   "cell_type": "markdown",
   "id": "66404666",
   "metadata": {},
   "source": [
    "### Etapa 2: Carregamento das bases de dados\n",
    "\n",
    "- Link Kaggle: https://www.kaggle.com/augustop/portuguese-tweets-for-sentiment-analysis#TweetsNeutralHash.csv"
   ]
  },
  {
   "cell_type": "markdown",
   "id": "dbc6b87f",
   "metadata": {},
   "source": [
    "### Base de treinamento\n",
    "\n",
    "- Negative label: 0\n",
    "- Positive label: 1"
   ]
  },
  {
   "cell_type": "code",
   "execution_count": 3,
   "id": "882ca733",
   "metadata": {},
   "outputs": [],
   "source": [
    "base_treinamento = pd.read_csv('Train50.csv', delimiter=';')"
   ]
  },
  {
   "cell_type": "code",
   "execution_count": 4,
   "id": "e9278ce1",
   "metadata": {},
   "outputs": [
    {
     "data": {
      "text/plain": [
       "(50000, 5)"
      ]
     },
     "execution_count": 4,
     "metadata": {},
     "output_type": "execute_result"
    }
   ],
   "source": [
    "base_treinamento.shape"
   ]
  },
  {
   "cell_type": "code",
   "execution_count": 5,
   "id": "d5c97c4b",
   "metadata": {},
   "outputs": [
    {
     "data": {
      "text/html": [
       "<div>\n",
       "<style scoped>\n",
       "    .dataframe tbody tr th:only-of-type {\n",
       "        vertical-align: middle;\n",
       "    }\n",
       "\n",
       "    .dataframe tbody tr th {\n",
       "        vertical-align: top;\n",
       "    }\n",
       "\n",
       "    .dataframe thead th {\n",
       "        text-align: right;\n",
       "    }\n",
       "</style>\n",
       "<table border=\"1\" class=\"dataframe\">\n",
       "  <thead>\n",
       "    <tr style=\"text-align: right;\">\n",
       "      <th></th>\n",
       "      <th>id</th>\n",
       "      <th>tweet_text</th>\n",
       "      <th>tweet_date</th>\n",
       "      <th>sentiment</th>\n",
       "      <th>query_used</th>\n",
       "    </tr>\n",
       "  </thead>\n",
       "  <tbody>\n",
       "    <tr>\n",
       "      <th>0</th>\n",
       "      <td>1050785521201541121</td>\n",
       "      <td>@Laranjito76 A pessoa certa para isso seria o ...</td>\n",
       "      <td>Fri Oct 12 16:29:25 +0000 2018</td>\n",
       "      <td>1</td>\n",
       "      <td>:)</td>\n",
       "    </tr>\n",
       "    <tr>\n",
       "      <th>1</th>\n",
       "      <td>1050785431955140608</td>\n",
       "      <td>@behin_d_curtain Para mim, é precisamente o co...</td>\n",
       "      <td>Fri Oct 12 16:29:04 +0000 2018</td>\n",
       "      <td>1</td>\n",
       "      <td>:)</td>\n",
       "    </tr>\n",
       "    <tr>\n",
       "      <th>2</th>\n",
       "      <td>1050785401248645120</td>\n",
       "      <td>Vou fazer um video hoje... estou pensando em f...</td>\n",
       "      <td>Fri Oct 12 16:28:56 +0000 2018</td>\n",
       "      <td>1</td>\n",
       "      <td>:)</td>\n",
       "    </tr>\n",
       "    <tr>\n",
       "      <th>3</th>\n",
       "      <td>1050785370982547461</td>\n",
       "      <td>aaaaaaaa amei tanto essas polaroids, nem sei e...</td>\n",
       "      <td>Fri Oct 12 16:28:49 +0000 2018</td>\n",
       "      <td>1</td>\n",
       "      <td>:)</td>\n",
       "    </tr>\n",
       "    <tr>\n",
       "      <th>4</th>\n",
       "      <td>1050785368902131713</td>\n",
       "      <td>Valoriza o coração do menininho que vc tem. El...</td>\n",
       "      <td>Fri Oct 12 16:28:49 +0000 2018</td>\n",
       "      <td>1</td>\n",
       "      <td>:)</td>\n",
       "    </tr>\n",
       "  </tbody>\n",
       "</table>\n",
       "</div>"
      ],
      "text/plain": [
       "                    id                                         tweet_text  \\\n",
       "0  1050785521201541121  @Laranjito76 A pessoa certa para isso seria o ...   \n",
       "1  1050785431955140608  @behin_d_curtain Para mim, é precisamente o co...   \n",
       "2  1050785401248645120  Vou fazer um video hoje... estou pensando em f...   \n",
       "3  1050785370982547461  aaaaaaaa amei tanto essas polaroids, nem sei e...   \n",
       "4  1050785368902131713  Valoriza o coração do menininho que vc tem. El...   \n",
       "\n",
       "                       tweet_date  sentiment query_used  \n",
       "0  Fri Oct 12 16:29:25 +0000 2018          1         :)  \n",
       "1  Fri Oct 12 16:29:04 +0000 2018          1         :)  \n",
       "2  Fri Oct 12 16:28:56 +0000 2018          1         :)  \n",
       "3  Fri Oct 12 16:28:49 +0000 2018          1         :)  \n",
       "4  Fri Oct 12 16:28:49 +0000 2018          1         :)  "
      ]
     },
     "execution_count": 5,
     "metadata": {},
     "output_type": "execute_result"
    }
   ],
   "source": [
    "base_treinamento.head()"
   ]
  },
  {
   "cell_type": "code",
   "execution_count": 6,
   "id": "5b708940",
   "metadata": {},
   "outputs": [
    {
     "data": {
      "text/html": [
       "<div>\n",
       "<style scoped>\n",
       "    .dataframe tbody tr th:only-of-type {\n",
       "        vertical-align: middle;\n",
       "    }\n",
       "\n",
       "    .dataframe tbody tr th {\n",
       "        vertical-align: top;\n",
       "    }\n",
       "\n",
       "    .dataframe thead th {\n",
       "        text-align: right;\n",
       "    }\n",
       "</style>\n",
       "<table border=\"1\" class=\"dataframe\">\n",
       "  <thead>\n",
       "    <tr style=\"text-align: right;\">\n",
       "      <th></th>\n",
       "      <th>id</th>\n",
       "      <th>tweet_text</th>\n",
       "      <th>tweet_date</th>\n",
       "      <th>sentiment</th>\n",
       "      <th>query_used</th>\n",
       "    </tr>\n",
       "  </thead>\n",
       "  <tbody>\n",
       "    <tr>\n",
       "      <th>49995</th>\n",
       "      <td>1046762827053232128</td>\n",
       "      <td>:( é tão lindo que dói https://t.co/GqnpgyWWxB</td>\n",
       "      <td>Mon Oct 01 14:04:40 +0000 2018</td>\n",
       "      <td>0</td>\n",
       "      <td>:(</td>\n",
       "    </tr>\n",
       "    <tr>\n",
       "      <th>49996</th>\n",
       "      <td>1046762813362966529</td>\n",
       "      <td>@veraluciarj Pois é.. tenho problema c/ \"coisa...</td>\n",
       "      <td>Mon Oct 01 14:04:37 +0000 2018</td>\n",
       "      <td>0</td>\n",
       "      <td>:(</td>\n",
       "    </tr>\n",
       "    <tr>\n",
       "      <th>49997</th>\n",
       "      <td>1046762806392082432</td>\n",
       "      <td>eu te amo tanto minja vidinha meu bem mais pre...</td>\n",
       "      <td>Mon Oct 01 14:04:35 +0000 2018</td>\n",
       "      <td>0</td>\n",
       "      <td>:(</td>\n",
       "    </tr>\n",
       "    <tr>\n",
       "      <th>49998</th>\n",
       "      <td>1046762752071618560</td>\n",
       "      <td>@itsLary @jessboluda Pfvor :(</td>\n",
       "      <td>Mon Oct 01 14:04:22 +0000 2018</td>\n",
       "      <td>0</td>\n",
       "      <td>:(</td>\n",
       "    </tr>\n",
       "    <tr>\n",
       "      <th>49999</th>\n",
       "      <td>1046762735340584962</td>\n",
       "      <td>@Renk_lol Passa ano Entra ano Eu nao desisto d...</td>\n",
       "      <td>Mon Oct 01 14:04:18 +0000 2018</td>\n",
       "      <td>0</td>\n",
       "      <td>:(</td>\n",
       "    </tr>\n",
       "  </tbody>\n",
       "</table>\n",
       "</div>"
      ],
      "text/plain": [
       "                        id                                         tweet_text  \\\n",
       "49995  1046762827053232128     :( é tão lindo que dói https://t.co/GqnpgyWWxB   \n",
       "49996  1046762813362966529  @veraluciarj Pois é.. tenho problema c/ \"coisa...   \n",
       "49997  1046762806392082432  eu te amo tanto minja vidinha meu bem mais pre...   \n",
       "49998  1046762752071618560                      @itsLary @jessboluda Pfvor :(   \n",
       "49999  1046762735340584962  @Renk_lol Passa ano Entra ano Eu nao desisto d...   \n",
       "\n",
       "                           tweet_date  sentiment query_used  \n",
       "49995  Mon Oct 01 14:04:40 +0000 2018          0         :(  \n",
       "49996  Mon Oct 01 14:04:37 +0000 2018          0         :(  \n",
       "49997  Mon Oct 01 14:04:35 +0000 2018          0         :(  \n",
       "49998  Mon Oct 01 14:04:22 +0000 2018          0         :(  \n",
       "49999  Mon Oct 01 14:04:18 +0000 2018          0         :(  "
      ]
     },
     "execution_count": 6,
     "metadata": {},
     "output_type": "execute_result"
    }
   ],
   "source": [
    "base_treinamento.tail()"
   ]
  },
  {
   "cell_type": "code",
   "execution_count": 9,
   "id": "a62971b1",
   "metadata": {},
   "outputs": [
    {
     "data": {
      "image/png": "[encoded data removed]",
      "text/plain": [
       "<Figure size 432x288 with 1 Axes>"
      ]
     },
     "metadata": {
      "needs_background": "light"
     },
     "output_type": "display_data"
    }
   ],
   "source": [
    "sns.countplot(base_treinamento['sentiment'], label = 'Contagem');"
   ]
  },
  {
   "cell_type": "code",
   "execution_count": 10,
   "id": "42e055d2",
   "metadata": {},
   "outputs": [],
   "source": [
    "base_treinamento.drop(['id', 'tweet_date', 'query_used'], axis = 1, inplace=True)"
   ]
  },
  {
   "cell_type": "code",
   "execution_count": 11,
   "id": "93fd418b",
   "metadata": {},
   "outputs": [
    {
     "data": {
      "text/html": [
       "<div>\n",
       "<style scoped>\n",
       "    .dataframe tbody tr th:only-of-type {\n",
       "        vertical-align: middle;\n",
       "    }\n",
       "\n",
       "    .dataframe tbody tr th {\n",
       "        vertical-align: top;\n",
       "    }\n",
       "\n",
       "    .dataframe thead th {\n",
       "        text-align: right;\n",
       "    }\n",
       "</style>\n",
       "<table border=\"1\" class=\"dataframe\">\n",
       "  <thead>\n",
       "    <tr style=\"text-align: right;\">\n",
       "      <th></th>\n",
       "      <th>tweet_text</th>\n",
       "      <th>sentiment</th>\n",
       "    </tr>\n",
       "  </thead>\n",
       "  <tbody>\n",
       "    <tr>\n",
       "      <th>0</th>\n",
       "      <td>@Laranjito76 A pessoa certa para isso seria o ...</td>\n",
       "      <td>1</td>\n",
       "    </tr>\n",
       "    <tr>\n",
       "      <th>1</th>\n",
       "      <td>@behin_d_curtain Para mim, é precisamente o co...</td>\n",
       "      <td>1</td>\n",
       "    </tr>\n",
       "    <tr>\n",
       "      <th>2</th>\n",
       "      <td>Vou fazer um video hoje... estou pensando em f...</td>\n",
       "      <td>1</td>\n",
       "    </tr>\n",
       "    <tr>\n",
       "      <th>3</th>\n",
       "      <td>aaaaaaaa amei tanto essas polaroids, nem sei e...</td>\n",
       "      <td>1</td>\n",
       "    </tr>\n",
       "    <tr>\n",
       "      <th>4</th>\n",
       "      <td>Valoriza o coração do menininho que vc tem. El...</td>\n",
       "      <td>1</td>\n",
       "    </tr>\n",
       "  </tbody>\n",
       "</table>\n",
       "</div>"
      ],
      "text/plain": [
       "                                          tweet_text  sentiment\n",
       "0  @Laranjito76 A pessoa certa para isso seria o ...          1\n",
       "1  @behin_d_curtain Para mim, é precisamente o co...          1\n",
       "2  Vou fazer um video hoje... estou pensando em f...          1\n",
       "3  aaaaaaaa amei tanto essas polaroids, nem sei e...          1\n",
       "4  Valoriza o coração do menininho que vc tem. El...          1"
      ]
     },
     "execution_count": 11,
     "metadata": {},
     "output_type": "execute_result"
    }
   ],
   "source": [
    "base_treinamento.head()"
   ]
  },
  {
   "cell_type": "code",
   "execution_count": 12,
   "id": "636c1f0d",
   "metadata": {},
   "outputs": [
    {
     "data": {
      "image/png": "[encoded data removed]",
      "text/plain": [
       "<Figure size 432x288 with 2 Axes>"
      ]
     },
     "metadata": {
      "needs_background": "light"
     },
     "output_type": "display_data"
    }
   ],
   "source": [
    "sns.heatmap(pd.isnull(base_treinamento));"
   ]
  },
  {
   "cell_type": "markdown",
   "id": "fadd72e5",
   "metadata": {},
   "source": [
    "### Base de teste"
   ]
  },
  {
   "cell_type": "code",
   "execution_count": 13,
   "id": "45f11ab2",
   "metadata": {},
   "outputs": [],
   "source": [
    "base_teste = pd.read_csv('Test.csv', delimiter=';')"
   ]
  },
  {
   "cell_type": "code",
   "execution_count": 14,
   "id": "1fbe9609",
   "metadata": {},
   "outputs": [
    {
     "data": {
      "text/html": [
       "<div>\n",
       "<style scoped>\n",
       "    .dataframe tbody tr th:only-of-type {\n",
       "        vertical-align: middle;\n",
       "    }\n",
       "\n",
       "    .dataframe tbody tr th {\n",
       "        vertical-align: top;\n",
       "    }\n",
       "\n",
       "    .dataframe thead th {\n",
       "        text-align: right;\n",
       "    }\n",
       "</style>\n",
       "<table border=\"1\" class=\"dataframe\">\n",
       "  <thead>\n",
       "    <tr style=\"text-align: right;\">\n",
       "      <th></th>\n",
       "      <th>id</th>\n",
       "      <th>tweet_text</th>\n",
       "      <th>tweet_date</th>\n",
       "      <th>sentiment</th>\n",
       "      <th>query_used</th>\n",
       "    </tr>\n",
       "  </thead>\n",
       "  <tbody>\n",
       "    <tr>\n",
       "      <th>0</th>\n",
       "      <td>1029536486021099522</td>\n",
       "      <td>@Gazo1a Nossa! Muito obrigada :)</td>\n",
       "      <td>Wed Aug 15 01:13:20 +0000 2018</td>\n",
       "      <td>1</td>\n",
       "      <td>:)</td>\n",
       "    </tr>\n",
       "    <tr>\n",
       "      <th>1</th>\n",
       "      <td>1029536496368406528</td>\n",
       "      <td>@BerzGamer vai pa puta que te pariu :)</td>\n",
       "      <td>Wed Aug 15 01:13:23 +0000 2018</td>\n",
       "      <td>1</td>\n",
       "      <td>:)</td>\n",
       "    </tr>\n",
       "    <tr>\n",
       "      <th>2</th>\n",
       "      <td>1029536531655131137</td>\n",
       "      <td>QUER MAIS DESCONTOS? (14/08) ⭐⭐⭐⭐⭐ 🌐 Confira n...</td>\n",
       "      <td>Wed Aug 15 01:13:31 +0000 2018</td>\n",
       "      <td>1</td>\n",
       "      <td>:)</td>\n",
       "    </tr>\n",
       "    <tr>\n",
       "      <th>3</th>\n",
       "      <td>1029536560117678081</td>\n",
       "      <td>EU VOU PEGAR VCS, ME AJUDEM GALERA, PELO AMOR ...</td>\n",
       "      <td>Wed Aug 15 01:13:38 +0000 2018</td>\n",
       "      <td>1</td>\n",
       "      <td>:)</td>\n",
       "    </tr>\n",
       "    <tr>\n",
       "      <th>4</th>\n",
       "      <td>1029536605852377088</td>\n",
       "      <td>Estávamos em casa do Zé e eu estava a morrer d...</td>\n",
       "      <td>Wed Aug 15 01:13:49 +0000 2018</td>\n",
       "      <td>1</td>\n",
       "      <td>:)</td>\n",
       "    </tr>\n",
       "  </tbody>\n",
       "</table>\n",
       "</div>"
      ],
      "text/plain": [
       "                    id                                         tweet_text  \\\n",
       "0  1029536486021099522                   @Gazo1a Nossa! Muito obrigada :)   \n",
       "1  1029536496368406528             @BerzGamer vai pa puta que te pariu :)   \n",
       "2  1029536531655131137  QUER MAIS DESCONTOS? (14/08) ⭐⭐⭐⭐⭐ 🌐 Confira n...   \n",
       "3  1029536560117678081  EU VOU PEGAR VCS, ME AJUDEM GALERA, PELO AMOR ...   \n",
       "4  1029536605852377088  Estávamos em casa do Zé e eu estava a morrer d...   \n",
       "\n",
       "                       tweet_date  sentiment query_used  \n",
       "0  Wed Aug 15 01:13:20 +0000 2018          1         :)  \n",
       "1  Wed Aug 15 01:13:23 +0000 2018          1         :)  \n",
       "2  Wed Aug 15 01:13:31 +0000 2018          1         :)  \n",
       "3  Wed Aug 15 01:13:38 +0000 2018          1         :)  \n",
       "4  Wed Aug 15 01:13:49 +0000 2018          1         :)  "
      ]
     },
     "execution_count": 14,
     "metadata": {},
     "output_type": "execute_result"
    }
   ],
   "source": [
    "base_teste.head()"
   ]
  },
  {
   "cell_type": "code",
   "execution_count": 15,
   "id": "941f062d",
   "metadata": {},
   "outputs": [
    {
     "data": {
      "text/plain": [
       "(5000, 5)"
      ]
     },
     "execution_count": 15,
     "metadata": {},
     "output_type": "execute_result"
    }
   ],
   "source": [
    "base_teste.shape"
   ]
  },
  {
   "cell_type": "code",
   "execution_count": 16,
   "id": "3e517c90",
   "metadata": {},
   "outputs": [
    {
     "data": {
      "image/png": "[encoded data removed]",
      "text/plain": [
       "<Figure size 432x288 with 1 Axes>"
      ]
     },
     "metadata": {
      "needs_background": "light"
     },
     "output_type": "display_data"
    }
   ],
   "source": [
    "sns.countplot(base_teste['sentiment'], label='Contagem');"
   ]
  },
  {
   "cell_type": "code",
   "execution_count": 17,
   "id": "9773448d",
   "metadata": {},
   "outputs": [],
   "source": [
    "base_teste.drop(['id', 'tweet_date', 'query_used'], axis = 1, inplace=True)"
   ]
  },
  {
   "cell_type": "code",
   "execution_count": 18,
   "id": "650c7dc8",
   "metadata": {},
   "outputs": [
    {
     "data": {
      "text/html": [
       "<div>\n",
       "<style scoped>\n",
       "    .dataframe tbody tr th:only-of-type {\n",
       "        vertical-align: middle;\n",
       "    }\n",
       "\n",
       "    .dataframe tbody tr th {\n",
       "        vertical-align: top;\n",
       "    }\n",
       "\n",
       "    .dataframe thead th {\n",
       "        text-align: right;\n",
       "    }\n",
       "</style>\n",
       "<table border=\"1\" class=\"dataframe\">\n",
       "  <thead>\n",
       "    <tr style=\"text-align: right;\">\n",
       "      <th></th>\n",
       "      <th>tweet_text</th>\n",
       "      <th>sentiment</th>\n",
       "    </tr>\n",
       "  </thead>\n",
       "  <tbody>\n",
       "    <tr>\n",
       "      <th>0</th>\n",
       "      <td>@Gazo1a Nossa! Muito obrigada :)</td>\n",
       "      <td>1</td>\n",
       "    </tr>\n",
       "    <tr>\n",
       "      <th>1</th>\n",
       "      <td>@BerzGamer vai pa puta que te pariu :)</td>\n",
       "      <td>1</td>\n",
       "    </tr>\n",
       "    <tr>\n",
       "      <th>2</th>\n",
       "      <td>QUER MAIS DESCONTOS? (14/08) ⭐⭐⭐⭐⭐ 🌐 Confira n...</td>\n",
       "      <td>1</td>\n",
       "    </tr>\n",
       "    <tr>\n",
       "      <th>3</th>\n",
       "      <td>EU VOU PEGAR VCS, ME AJUDEM GALERA, PELO AMOR ...</td>\n",
       "      <td>1</td>\n",
       "    </tr>\n",
       "    <tr>\n",
       "      <th>4</th>\n",
       "      <td>Estávamos em casa do Zé e eu estava a morrer d...</td>\n",
       "      <td>1</td>\n",
       "    </tr>\n",
       "  </tbody>\n",
       "</table>\n",
       "</div>"
      ],
      "text/plain": [
       "                                          tweet_text  sentiment\n",
       "0                   @Gazo1a Nossa! Muito obrigada :)          1\n",
       "1             @BerzGamer vai pa puta que te pariu :)          1\n",
       "2  QUER MAIS DESCONTOS? (14/08) ⭐⭐⭐⭐⭐ 🌐 Confira n...          1\n",
       "3  EU VOU PEGAR VCS, ME AJUDEM GALERA, PELO AMOR ...          1\n",
       "4  Estávamos em casa do Zé e eu estava a morrer d...          1"
      ]
     },
     "execution_count": 18,
     "metadata": {},
     "output_type": "execute_result"
    }
   ],
   "source": [
    "base_teste.head()"
   ]
  },
  {
   "cell_type": "code",
   "execution_count": 19,
   "id": "f1b4b43d",
   "metadata": {},
   "outputs": [
    {
     "data": {
      "image/png": "[encoded data removed]",
      "text/plain": [
       "<Figure size 432x288 with 2 Axes>"
      ]
     },
     "metadata": {
      "needs_background": "light"
     },
     "output_type": "display_data"
    }
   ],
   "source": [
    "sns.heatmap(pd.isnull(base_teste));"
   ]
  },
  {
   "cell_type": "markdown",
   "id": "111aacbe",
   "metadata": {},
   "source": [
    "### Etapa 3: Função para pré-processamento dos textos\n",
    "\n",
    "- Letras minúsculas\n",
    "- Nome do usuário (@)\n",
    "- URLs\n",
    "- Espaços em branco\n",
    "- Emoticons\n",
    "- Stop words\n",
    "- Lematização\n",
    "- Pontuações"
   ]
  },
  {
   "cell_type": "code",
   "execution_count": 21,
   "id": "45a7b136",
   "metadata": {},
   "outputs": [
    {
     "data": {
      "text/plain": [
       "<spacy.lang.pt.Portuguese at 0x1d9365170c8>"
      ]
     },
     "execution_count": 21,
     "metadata": {},
     "output_type": "execute_result"
    }
   ],
   "source": [
    "pln = spacy.load('pt_core_news_sm')\n",
    "pln"
   ]
  },
  {
   "cell_type": "code",
   "execution_count": 22,
   "id": "2c4c8f8d",
   "metadata": {},
   "outputs": [
    {
     "data": {
      "text/plain": [
       "'@behin_d_curtain Para mim, é precisamente o contrário :) Vem a chuva e vem a boa disposição :)'"
      ]
     },
     "execution_count": 22,
     "metadata": {},
     "output_type": "execute_result"
    }
   ],
   "source": [
    "base_treinamento['tweet_text'][1]"
   ]
  },
  {
   "cell_type": "code",
   "execution_count": 23,
   "id": "0d46992e",
   "metadata": {},
   "outputs": [],
   "source": [
    "stop_words = spacy.lang.pt.stop_words.STOP_WORDS"
   ]
  },
  {
   "cell_type": "code",
   "execution_count": 24,
   "id": "289f9e45",
   "metadata": {},
   "outputs": [
    {
     "name": "stdout",
     "output_type": "stream",
     "text": [
      "{'comprido', 'tal', 'vão', 'tivemos', 'estou', 'dezoito', 'porém', 'todas', 'ele', 'relação', 'depois', 'aqui', 'nível', 'nunca', 'tem', 'tipo', 'quatro', 'toda', 'des', 'direita', 'conhecida', 'quinto', 'meus', 'favor', 'mais', 'aquilo', 'certamente', 'fazeis', 'sexto', 'somente', 'sete', 'qual', 'demais', 'porquanto', 'quinze', 'estiveram', 'à', 'ir', 'fez', 'boa', 'caminho', 'estás', 'essa', 'enquanto', 'faz', 'agora', 'estar', 'cima', 'um', 'tais', 'usar', 'todos', 'eventual', 'sétimo', 'até', 'elas', 'mas', 'antes', 'local', 'fazem', 'inclusive', 'oito', 'de', 'fostes', 'tentei', 'qualquer', 'dessa', 'nossos', 'porque', 'tive', 'cuja', 'duas', 'diante', 'quarta', 'onze', 'neste', 'cá', 'minhas', 'possivelmente', 'baixo', 'terceiro', 'dar', 'nove', 'ora', 'tua', 'alguns', 'vários', 'esse', 'pontos', 'fui', 'fim', 'ambas', 'tu', 'dezassete', 'nossas', 'poderá', 'através', 'aos', 'dentro', 'põem', 'logo', 'longe', 'vós', 'as', 'após', 'ambos', 'quer', 'apoia', 'bem', 'falta', 'maioria', 'como', 'não', 'tivestes', 'cujo', 'eu', 'quem', 'das', 'área', 'outros', 'foram', 'te', 'umas', 'perto', 'possível', 'questão', 'quê', 'sistema', 'somos', 'números', 'numa', 'primeiro', 'posição', 'esses', 'aquelas', 'doze', 'nosso', 'maiorias', 'obrigado', 'sua', 'maior', 'por', 'da', 'me', 'uma', 'sem', 'exemplo', 'ali', 'irá', 'nós', 'dezasseis', 'está', 'você', 'foste', 'vêm', 'seria', 'teu', 'é', 'acerca', 'só', 'daquele', 'tempo', 'fora', 'quarto', 'tiveram', 'isto', 'temos', 'isso', 'terceira', 'catorze', 'pegar', 'devem', 'põe', 'bastante', 'lugar', 'tudo', 'tarde', 'sexta', 'menor', 'suas', 'quero', 'fazes', 'atrás', 'deve', 'próximo', 'nesse', 'dezanove', 'posso', 'vossa', 'ter', 'todo', 'treze', 'ela', 'sei', 'apontar', 'vezes', 'vinda', 'nenhuma', 'debaixo', 'nem', 'zero', 'teve', 'tanta', 'apoio', 'estes', 'disso', 'podia', 'naquela', 'dois', 'era', 'então', 'seus', 'são', 'minha', 'momento', 'mês', 'nuns', 'novos', 'embora', 'deste', 'fará', 'entre', 'ser', 'nova', 'pôde', 'quieta', 'têm', 'lado', 'estas', 'no', 'assim', 'pouca', 'cinco', 'portanto', 'iniciar', 'deverá', 'sempre', 'grandes', 'partir', 'ainda', 'quinta', 'seu', 'muito', 'quieto', 'pelo', 'desta', 'tiveste', 'outra', 'for', 'nessa', 'ademais', 'segunda', 'tentar', 'querem', 'três', 'sobre', 'estão', 'sou', 'meu', 'pelas', 'ponto', 'quando', 'além', 'estiveste', 'fomos', 'parece', 'tanto', 'nada', 'daquela', 'podem', 'aquela', 'forma', 'quanto', 'diz', 'oitavo', 'eles', 'sob', 'ao', 'coisa', 'seis', 'algumas', 'puderam', 'porquê', 'mil', 'grande', 'fazemos', 'pouco', 'vocês', 'pode', 'para', 'os', 'vossos', 'certeza', 'cada', 'comprida', 'vez', 'poder', 'aquele', 'lá', 'sim', 'próprio', 'ver', 'estará', 'dizer', 'nas', 'segundo', 'estivestes', 'oitava', 'corrente', 'aí', 'outras', 'fazia', 'se', 'grupo', 'estado', 'estava', 'fazer', 'vens', 'próxima', 'usa', 'menos', 'estivemos', 'novo', 'num', 'dão', 'onde', 'tão', 'último', 'cento', 'já', 'desse', 'és', 'aqueles', 'tente', 'novas', 'sabe', 'mesmo', 'meio', 'talvez', 'obrigada', 'vem', 'mal', 'ontem', 'dos', 'dá', 'tenho', 'que', 'primeira', 'veja', 'apenas', 'do', 'contudo', 'inicio', 'algo', 'em', 'teus', 'vosso', 'conhecido', 'com', 'tuas', 'geral', 'quais', 'tendes', 'dizem', 'também', 'uns', 'faço', 'vos', 'vinte', 'ou', 'essas', 'pela', 'às', 'este', 'pelos', 'meses', 'cedo', 'dez', 'vai', 'parte', 'tens', 'conselho', 'lhe', 'valor', 'sois', 'contra', 'breve', 'adeus', 'nossa', 'nesta', 'na', 'sétima', 'muitos', 'bom', 'pois', 'vindo', 'número', 'ligado', 'máximo', 'esta', 'tentaram', 'foi', 'povo', 'desde', 'esteve', 'vais', 'nos', 'saber', 'vossas', 'final', 'estive', 'custa', 'naquele'}\n"
     ]
    }
   ],
   "source": [
    "print(stop_words)"
   ]
  },
  {
   "cell_type": "code",
   "execution_count": 25,
   "id": "63898d7a",
   "metadata": {},
   "outputs": [
    {
     "data": {
      "text/plain": [
       "'!\"#$%&\\'()*+,-./:;<=>?@[\\\\]^_`{|}~'"
      ]
     },
     "execution_count": 25,
     "metadata": {},
     "output_type": "execute_result"
    }
   ],
   "source": [
    "string.punctuation"
   ]
  },
  {
   "cell_type": "code",
   "execution_count": 26,
   "id": "ac9fc191",
   "metadata": {},
   "outputs": [],
   "source": [
    "def preprocessamento(texto):\n",
    "    # Letras minúsculas\n",
    "    texto = texto.lower()\n",
    "\n",
    "    # Nome do usuário\n",
    "    texto = re.sub(r\"@[A-Za-z0-9$-_@.&+]+\", ' ', texto)\n",
    "\n",
    "    # URLs\n",
    "    texto = re.sub(r\"https?://[A-Za-z0-9./]+\", ' ', texto)\n",
    "\n",
    "    # Espaços em branco\n",
    "    texto = re.sub(r\" +\", ' ', texto)\n",
    "\n",
    "    # Emoticons\n",
    "    lista_emocoes = {':)': 'emocaopositiva',\n",
    "                   ':d': 'emocaopositiva',\n",
    "                   ':(': 'emocaonegativa'}\n",
    "    for emocao in lista_emocoes:\n",
    "        texto = texto.replace(emocao, lista_emocoes[emocao])\n",
    "\n",
    "    # Lematização\n",
    "    documento = pln(texto)\n",
    "\n",
    "    lista = []\n",
    "    for token in documento:\n",
    "        lista.append(token.lemma_)\n",
    "  \n",
    "    # Stop words e pontuações\n",
    "    lista = [palavra for palavra in lista if palavra not in stop_words and palavra not in string.punctuation]\n",
    "    lista = ' '.join([str(elemento) for elemento in lista if not elemento.isdigit()])\n",
    "  \n",
    "    return lista"
   ]
  },
  {
   "cell_type": "code",
   "execution_count": 31,
   "id": "a07ba34b",
   "metadata": {},
   "outputs": [
    {
     "data": {
      "text/plain": [
       "'  emocaopositiva parir emocaonegativa mim precisamente o contrário emocaopositiva vir o chuva e vir o disposição emocaopositiva'"
      ]
     },
     "execution_count": 31,
     "metadata": {},
     "output_type": "execute_result"
    }
   ],
   "source": [
    "texto_teste = '@behin_d_curtain :D Para :( mim, http://www.google.com.br é precisamente o contrário :) Vem a chuva e vem a boa disposição :)'\n",
    "resultado = preprocessamento(texto_teste)\n",
    "resultado"
   ]
  },
  {
   "cell_type": "markdown",
   "id": "c5698c4a",
   "metadata": {},
   "source": [
    "### Etapa 4: Pré-processamento da base de dados"
   ]
  },
  {
   "cell_type": "markdown",
   "id": "82237281",
   "metadata": {},
   "source": [
    "### Limpeza dos textos"
   ]
  },
  {
   "cell_type": "code",
   "execution_count": 32,
   "id": "1bddcc59",
   "metadata": {},
   "outputs": [
    {
     "data": {
      "text/html": [
       "<div>\n",
       "<style scoped>\n",
       "    .dataframe tbody tr th:only-of-type {\n",
       "        vertical-align: middle;\n",
       "    }\n",
       "\n",
       "    .dataframe tbody tr th {\n",
       "        vertical-align: top;\n",
       "    }\n",
       "\n",
       "    .dataframe thead th {\n",
       "        text-align: right;\n",
       "    }\n",
       "</style>\n",
       "<table border=\"1\" class=\"dataframe\">\n",
       "  <thead>\n",
       "    <tr style=\"text-align: right;\">\n",
       "      <th></th>\n",
       "      <th>tweet_text</th>\n",
       "      <th>sentiment</th>\n",
       "    </tr>\n",
       "  </thead>\n",
       "  <tbody>\n",
       "    <tr>\n",
       "      <th>0</th>\n",
       "      <td>@Laranjito76 A pessoa certa para isso seria o ...</td>\n",
       "      <td>1</td>\n",
       "    </tr>\n",
       "    <tr>\n",
       "      <th>1</th>\n",
       "      <td>@behin_d_curtain Para mim, é precisamente o co...</td>\n",
       "      <td>1</td>\n",
       "    </tr>\n",
       "    <tr>\n",
       "      <th>2</th>\n",
       "      <td>Vou fazer um video hoje... estou pensando em f...</td>\n",
       "      <td>1</td>\n",
       "    </tr>\n",
       "    <tr>\n",
       "      <th>3</th>\n",
       "      <td>aaaaaaaa amei tanto essas polaroids, nem sei e...</td>\n",
       "      <td>1</td>\n",
       "    </tr>\n",
       "    <tr>\n",
       "      <th>4</th>\n",
       "      <td>Valoriza o coração do menininho que vc tem. El...</td>\n",
       "      <td>1</td>\n",
       "    </tr>\n",
       "    <tr>\n",
       "      <th>5</th>\n",
       "      <td>@KingJokerLeto mas amiga eu to aqui ainda :)</td>\n",
       "      <td>1</td>\n",
       "    </tr>\n",
       "    <tr>\n",
       "      <th>6</th>\n",
       "      <td>@RivasJairo Bravo, Jairo!!! :)))</td>\n",
       "      <td>1</td>\n",
       "    </tr>\n",
       "    <tr>\n",
       "      <th>7</th>\n",
       "      <td>@inquilinasls @Spotify socorro ksoaksosks acho...</td>\n",
       "      <td>1</td>\n",
       "    </tr>\n",
       "    <tr>\n",
       "      <th>8</th>\n",
       "      <td>@chimekarlla gosto muito de fazenda :) , mas m...</td>\n",
       "      <td>1</td>\n",
       "    </tr>\n",
       "    <tr>\n",
       "      <th>9</th>\n",
       "      <td>Amanha vou ver venom :D</td>\n",
       "      <td>1</td>\n",
       "    </tr>\n",
       "  </tbody>\n",
       "</table>\n",
       "</div>"
      ],
      "text/plain": [
       "                                          tweet_text  sentiment\n",
       "0  @Laranjito76 A pessoa certa para isso seria o ...          1\n",
       "1  @behin_d_curtain Para mim, é precisamente o co...          1\n",
       "2  Vou fazer um video hoje... estou pensando em f...          1\n",
       "3  aaaaaaaa amei tanto essas polaroids, nem sei e...          1\n",
       "4  Valoriza o coração do menininho que vc tem. El...          1\n",
       "5       @KingJokerLeto mas amiga eu to aqui ainda :)          1\n",
       "6                   @RivasJairo Bravo, Jairo!!! :)))          1\n",
       "7  @inquilinasls @Spotify socorro ksoaksosks acho...          1\n",
       "8  @chimekarlla gosto muito de fazenda :) , mas m...          1\n",
       "9                            Amanha vou ver venom :D          1"
      ]
     },
     "execution_count": 32,
     "metadata": {},
     "output_type": "execute_result"
    }
   ],
   "source": [
    "base_treinamento.head(10)"
   ]
  },
  {
   "cell_type": "code",
   "execution_count": 33,
   "id": "b08aac09",
   "metadata": {},
   "outputs": [],
   "source": [
    "base_treinamento['tweet_text'] = base_treinamento['tweet_text'].apply(preprocessamento)"
   ]
  },
  {
   "cell_type": "code",
   "execution_count": 34,
   "id": "486b8e8f",
   "metadata": {},
   "outputs": [
    {
     "data": {
      "text/html": [
       "<div>\n",
       "<style scoped>\n",
       "    .dataframe tbody tr th:only-of-type {\n",
       "        vertical-align: middle;\n",
       "    }\n",
       "\n",
       "    .dataframe tbody tr th {\n",
       "        vertical-align: top;\n",
       "    }\n",
       "\n",
       "    .dataframe thead th {\n",
       "        text-align: right;\n",
       "    }\n",
       "</style>\n",
       "<table border=\"1\" class=\"dataframe\">\n",
       "  <thead>\n",
       "    <tr style=\"text-align: right;\">\n",
       "      <th></th>\n",
       "      <th>tweet_text</th>\n",
       "      <th>sentiment</th>\n",
       "    </tr>\n",
       "  </thead>\n",
       "  <tbody>\n",
       "    <tr>\n",
       "      <th>0</th>\n",
       "      <td>o pessoa certo parir seriar o valer e azeved...</td>\n",
       "      <td>1</td>\n",
       "    </tr>\n",
       "    <tr>\n",
       "      <th>1</th>\n",
       "      <td>parir mim precisamente o contrário emocaopos...</td>\n",
       "      <td>1</td>\n",
       "    </tr>\n",
       "    <tr>\n",
       "      <th>2</th>\n",
       "      <td>video hoje ... pensar falar sobrar o meter csg...</td>\n",
       "      <td>1</td>\n",
       "    </tr>\n",
       "    <tr>\n",
       "      <th>3</th>\n",
       "      <td>aaaaaaaa amar polaroids expressar o quantum to...</td>\n",
       "      <td>1</td>\n",
       "    </tr>\n",
       "    <tr>\n",
       "      <th>4</th>\n",
       "      <td>valorizar o coração menino vc diferente o sorr...</td>\n",
       "      <td>1</td>\n",
       "    </tr>\n",
       "    <tr>\n",
       "      <th>5</th>\n",
       "      <td>amigo to emocaopositiva</td>\n",
       "      <td>1</td>\n",
       "    </tr>\n",
       "    <tr>\n",
       "      <th>6</th>\n",
       "      <td>bravo jairo emocaopositiva</td>\n",
       "      <td>1</td>\n",
       "    </tr>\n",
       "    <tr>\n",
       "      <th>7</th>\n",
       "      <td>socorrer ksoaksosks achar to o caixa som :p</td>\n",
       "      <td>1</td>\n",
       "    </tr>\n",
       "    <tr>\n",
       "      <th>8</th>\n",
       "      <td>gostar fazenda emocaopositiva morrer medo ga...</td>\n",
       "      <td>1</td>\n",
       "    </tr>\n",
       "    <tr>\n",
       "      <th>9</th>\n",
       "      <td>amanhar venom emocaopositiva</td>\n",
       "      <td>1</td>\n",
       "    </tr>\n",
       "  </tbody>\n",
       "</table>\n",
       "</div>"
      ],
      "text/plain": [
       "                                          tweet_text  sentiment\n",
       "0    o pessoa certo parir seriar o valer e azeved...          1\n",
       "1    parir mim precisamente o contrário emocaopos...          1\n",
       "2  video hoje ... pensar falar sobrar o meter csg...          1\n",
       "3  aaaaaaaa amar polaroids expressar o quantum to...          1\n",
       "4  valorizar o coração menino vc diferente o sorr...          1\n",
       "5                            amigo to emocaopositiva          1\n",
       "6                         bravo jairo emocaopositiva          1\n",
       "7        socorrer ksoaksosks achar to o caixa som :p          1\n",
       "8    gostar fazenda emocaopositiva morrer medo ga...          1\n",
       "9                       amanhar venom emocaopositiva          1"
      ]
     },
     "execution_count": 34,
     "metadata": {},
     "output_type": "execute_result"
    }
   ],
   "source": [
    "base_treinamento.head(10)"
   ]
  },
  {
   "cell_type": "code",
   "execution_count": 35,
   "id": "ca781584",
   "metadata": {},
   "outputs": [],
   "source": [
    "base_teste['tweet_text'] = base_teste['tweet_text'].apply(preprocessamento)"
   ]
  },
  {
   "cell_type": "code",
   "execution_count": 36,
   "id": "76de0546",
   "metadata": {},
   "outputs": [
    {
     "data": {
      "text/html": [
       "<div>\n",
       "<style scoped>\n",
       "    .dataframe tbody tr th:only-of-type {\n",
       "        vertical-align: middle;\n",
       "    }\n",
       "\n",
       "    .dataframe tbody tr th {\n",
       "        vertical-align: top;\n",
       "    }\n",
       "\n",
       "    .dataframe thead th {\n",
       "        text-align: right;\n",
       "    }\n",
       "</style>\n",
       "<table border=\"1\" class=\"dataframe\">\n",
       "  <thead>\n",
       "    <tr style=\"text-align: right;\">\n",
       "      <th></th>\n",
       "      <th>tweet_text</th>\n",
       "      <th>sentiment</th>\n",
       "    </tr>\n",
       "  </thead>\n",
       "  <tbody>\n",
       "    <tr>\n",
       "      <th>0</th>\n",
       "      <td>obrigar emocaopositiva</td>\n",
       "      <td>1</td>\n",
       "    </tr>\n",
       "    <tr>\n",
       "      <th>1</th>\n",
       "      <td>pa puta parir emocaopositiva</td>\n",
       "      <td>1</td>\n",
       "    </tr>\n",
       "    <tr>\n",
       "      <th>2</th>\n",
       "      <td>querer desconto 14/08 ⭐ ⭐ ⭐ ⭐ ⭐ 🌐 conferir o l...</td>\n",
       "      <td>1</td>\n",
       "    </tr>\n",
       "    <tr>\n",
       "      <th>3</th>\n",
       "      <td>vcs ajudar galera pelar amor butera emocaoposi...</td>\n",
       "      <td>1</td>\n",
       "    </tr>\n",
       "    <tr>\n",
       "      <th>4</th>\n",
       "      <td>casar zé e o morrer sono chegar o casar e fica...</td>\n",
       "      <td>1</td>\n",
       "    </tr>\n",
       "    <tr>\n",
       "      <th>5</th>\n",
       "      <td>preciso emocaopositiva</td>\n",
       "      <td>1</td>\n",
       "    </tr>\n",
       "    <tr>\n",
       "      <th>6</th>\n",
       "      <td>acaso adorar beijo e abraço hahahahaha bue f...</td>\n",
       "      <td>1</td>\n",
       "    </tr>\n",
       "    <tr>\n",
       "      <th>7</th>\n",
       "      <td>solteiro s emocaopositiva</td>\n",
       "      <td>1</td>\n",
       "    </tr>\n",
       "    <tr>\n",
       "      <th>8</th>\n",
       "      <td>lindeza cortador kit mário coleção bia cravol ...</td>\n",
       "      <td>1</td>\n",
       "    </tr>\n",
       "    <tr>\n",
       "      <th>9</th>\n",
       "      <td>claro emocaopositiva</td>\n",
       "      <td>1</td>\n",
       "    </tr>\n",
       "  </tbody>\n",
       "</table>\n",
       "</div>"
      ],
      "text/plain": [
       "                                          tweet_text  sentiment\n",
       "0                             obrigar emocaopositiva          1\n",
       "1                       pa puta parir emocaopositiva          1\n",
       "2  querer desconto 14/08 ⭐ ⭐ ⭐ ⭐ ⭐ 🌐 conferir o l...          1\n",
       "3  vcs ajudar galera pelar amor butera emocaoposi...          1\n",
       "4  casar zé e o morrer sono chegar o casar e fica...          1\n",
       "5                             preciso emocaopositiva          1\n",
       "6    acaso adorar beijo e abraço hahahahaha bue f...          1\n",
       "7                          solteiro s emocaopositiva          1\n",
       "8  lindeza cortador kit mário coleção bia cravol ...          1\n",
       "9                               claro emocaopositiva          1"
      ]
     },
     "execution_count": 36,
     "metadata": {},
     "output_type": "execute_result"
    }
   ],
   "source": [
    "base_teste.head(10)"
   ]
  },
  {
   "cell_type": "markdown",
   "id": "9908870e",
   "metadata": {},
   "source": [
    "### Tratamento da classe"
   ]
  },
  {
   "cell_type": "code",
   "execution_count": 37,
   "id": "aeca301f",
   "metadata": {},
   "outputs": [],
   "source": [
    "exemplo_base_dados = [[\"este trabalho é agradável\", {\"POSITIVO\": True, \"NEGATIVO\": False}],\n",
    "                      [\"este lugar continua assustador\", {\"POSITIVO\": False, \"NEGATIVO\": True}]]"
   ]
  },
  {
   "cell_type": "code",
   "execution_count": 38,
   "id": "edbaf969",
   "metadata": {},
   "outputs": [],
   "source": [
    "base_dados_treinamento_final = []\n",
    "for texto, emocao in zip(base_treinamento['tweet_text'], base_treinamento['sentiment']):\n",
    "    if emocao == 1:\n",
    "        dic = ({'POSITIVO': True, 'NEGATIVO': False})\n",
    "    elif emocao == 0:\n",
    "        dic = ({'POSITIVO': False, 'NEGATIVO': True})\n",
    "\n",
    "    base_dados_treinamento_final.append([texto, dic.copy()])"
   ]
  },
  {
   "cell_type": "code",
   "execution_count": 39,
   "id": "ef07850e",
   "metadata": {},
   "outputs": [
    {
     "data": {
      "text/plain": [
       "50000"
      ]
     },
     "execution_count": 39,
     "metadata": {},
     "output_type": "execute_result"
    }
   ],
   "source": [
    "len(base_dados_treinamento_final)"
   ]
  },
  {
   "cell_type": "code",
   "execution_count": 40,
   "id": "f4431e6a",
   "metadata": {},
   "outputs": [
    {
     "data": {
      "text/plain": [
       "[['simplesmente o deixar chatear querer muitooo e iludir emocaopositiva',\n",
       "  {'POSITIVO': True, 'NEGATIVO': False}],\n",
       " ['o comedir umar rotina e perfeitamente parir consolidar o escola condução :p',\n",
       "  {'POSITIVO': True, 'NEGATIVO': False}],\n",
       " ['amigar parecer apaixonar vc — recíproco emocaopositiva',\n",
       "  {'POSITIVO': True, 'NEGATIVO': False}],\n",
       " ['  gajar bacano aleijar esperar e o silvar feliz emocaopositiva',\n",
       "  {'POSITIVO': True, 'NEGATIVO': False}],\n",
       " ['tou o video cabra bebé emocaopositiva',\n",
       "  {'POSITIVO': True, 'NEGATIVO': False}]]"
      ]
     },
     "execution_count": 40,
     "metadata": {},
     "output_type": "execute_result"
    }
   ],
   "source": [
    "base_dados_treinamento_final[10:15]"
   ]
  },
  {
   "cell_type": "code",
   "execution_count": 41,
   "id": "90ac65d6",
   "metadata": {},
   "outputs": [
    {
     "data": {
      "text/plain": [
       "[['o menino pijama listrar o filmar triste mundo estruturar nenhum pra assistir rever e to pensar n emocaonegativa',\n",
       "  {'POSITIVO': False, 'NEGATIVO': True}],\n",
       " ['pra o vídeo luísa raiz o poliana infelizmente o twitter tá ruim amanhã postar emocaonegativa asaventurasdepoliana099',\n",
       "  {'POSITIVO': False, 'NEGATIVO': True}],\n",
       " ['to crise abstinência strangers emocaonegativa — tbm :/ to',\n",
       "  {'POSITIVO': False, 'NEGATIVO': True}],\n",
       " ['  esquecer olhar pra pagar o mensalidade turma pro cursar querer emocaonegativa',\n",
       "  {'POSITIVO': False, 'NEGATIVO': True}],\n",
       " ['querer comer doce comer montar hoje emocaonegativa maldição',\n",
       "  {'POSITIVO': False, 'NEGATIVO': True}]]"
      ]
     },
     "execution_count": 41,
     "metadata": {},
     "output_type": "execute_result"
    }
   ],
   "source": [
    "base_dados_treinamento_final[45000:45005]"
   ]
  },
  {
   "cell_type": "markdown",
   "id": "3c62f07f",
   "metadata": {},
   "source": [
    "### Etapa 5: Criação do classificador"
   ]
  },
  {
   "cell_type": "code",
   "execution_count": 42,
   "id": "d9bf14d6",
   "metadata": {},
   "outputs": [],
   "source": [
    "modelo = spacy.blank('pt')\n",
    "categorias = modelo.create_pipe(\"textcat\")\n",
    "categorias.add_label(\"POSITIVO\")\n",
    "categorias.add_label(\"NEGATIVO\")\n",
    "modelo.add_pipe(categorias)\n",
    "historico = []"
   ]
  },
  {
   "cell_type": "code",
   "execution_count": 43,
   "id": "7a6f3eeb",
   "metadata": {},
   "outputs": [
    {
     "name": "stdout",
     "output_type": "stream",
     "text": [
      "{'textcat': 7.235497079934039e-06}\n",
      "{'textcat': 1.0104311988674841e-06}\n",
      "{'textcat': 5.842167448565257e-07}\n",
      "{'textcat': 3.230814570203723e-07}\n",
      "{'textcat': 2.513600821391765e-07}\n",
      "{'textcat': 2.198384890470537e-07}\n",
      "{'textcat': 2.388649175950712e-07}\n",
      "{'textcat': 2.0246648125697882e-07}\n",
      "{'textcat': 2.1947419092034105e-07}\n",
      "{'textcat': 2.0875966329187519e-07}\n",
      "{'textcat': 1.9490920508713244e-07}\n",
      "{'textcat': 2.0818312383268913e-07}\n",
      "{'textcat': 4.49780156755843e-07}\n",
      "{'textcat': 4.4602216071215096e-07}\n",
      "{'textcat': 2.9248035087262036e-07}\n",
      "{'textcat': 2.2531910859872233e-07}\n",
      "{'textcat': 3.957438317001038e-07}\n",
      "{'textcat': 2.2513899636852474e-07}\n",
      "{'textcat': 8.010949720660269e-08}\n",
      "{'textcat': 1.9934662352276097e-08}\n"
     ]
    }
   ],
   "source": [
    "modelo.begin_training()\n",
    "for epoca in range(20):\n",
    "    random.shuffle(base_dados_treinamento_final)\n",
    "    losses = {}\n",
    "    for batch in spacy.util.minibatch(base_dados_treinamento_final, 512):\n",
    "        textos = [modelo(texto) for texto, entities in batch]\n",
    "        annotations = [{'cats': entities} for texto, entities in batch]\n",
    "        modelo.update(textos, annotations, losses=losses)\n",
    "        historico.append(losses)\n",
    "    if epoca % 1 == 0:\n",
    "        print(losses)"
   ]
  },
  {
   "cell_type": "code",
   "execution_count": 48,
   "id": "e587e4da",
   "metadata": {},
   "outputs": [],
   "source": [
    "historico_loss = []\n",
    "for i in historico:\n",
    "    historico_loss.append(i.get('textcat'))"
   ]
  },
  {
   "cell_type": "code",
   "execution_count": 49,
   "id": "d724dd83",
   "metadata": {},
   "outputs": [
    {
     "data": {
      "text/plain": [
       "array([7.23549708e-06, 7.23549708e-06, 7.23549708e-06, ...,\n",
       "       1.99346624e-08, 1.99346624e-08, 1.99346624e-08])"
      ]
     },
     "execution_count": 49,
     "metadata": {},
     "output_type": "execute_result"
    }
   ],
   "source": [
    "historico_loss = np.array(historico_loss)\n",
    "historico_loss"
   ]
  },
  {
   "cell_type": "code",
   "execution_count": 50,
   "id": "d06a1ffe",
   "metadata": {},
   "outputs": [
    {
     "data": {
      "text/plain": [
       "Text(0, 0.5, 'Erro')"
      ]
     },
     "execution_count": 50,
     "metadata": {},
     "output_type": "execute_result"
    },
    {
     "data": {
      "image/png": "[encoded data removed]",
      "text/plain": [
       "<Figure size 432x288 with 1 Axes>"
      ]
     },
     "metadata": {
      "needs_background": "light"
     },
     "output_type": "display_data"
    }
   ],
   "source": [
    "import matplotlib.pyplot as plt\n",
    "plt.plot(historico_loss)\n",
    "plt.title('Progressão do erro')\n",
    "plt.xlabel('Batches')\n",
    "plt.ylabel('Erro')"
   ]
  },
  {
   "cell_type": "code",
   "execution_count": 51,
   "id": "745dc7d4",
   "metadata": {},
   "outputs": [],
   "source": [
    "modelo.to_disk(\"modelo\")"
   ]
  },
  {
   "cell_type": "markdown",
   "id": "3bf7be34",
   "metadata": {},
   "source": [
    "### Etapa 6: Testes com uma frase"
   ]
  },
  {
   "cell_type": "code",
   "execution_count": 52,
   "id": "a34ae1ad",
   "metadata": {},
   "outputs": [
    {
     "data": {
      "text/plain": [
       "<spacy.lang.pt.Portuguese at 0x1d94d9ea388>"
      ]
     },
     "execution_count": 52,
     "metadata": {},
     "output_type": "execute_result"
    }
   ],
   "source": [
    "modelo_carregado = spacy.load('modelo')\n",
    "modelo_carregado"
   ]
  },
  {
   "cell_type": "markdown",
   "id": "5e6124bc",
   "metadata": {},
   "source": [
    "### Texto positivo"
   ]
  },
  {
   "cell_type": "code",
   "execution_count": 53,
   "id": "83de1b00",
   "metadata": {},
   "outputs": [
    {
     "data": {
      "text/plain": [
       "'  ficar feliz q recíproco emocaopositiva'"
      ]
     },
     "execution_count": 53,
     "metadata": {},
     "output_type": "execute_result"
    }
   ],
   "source": [
    "texto_positivo = base_teste['tweet_text'][21]\n",
    "texto_positivo"
   ]
  },
  {
   "cell_type": "code",
   "execution_count": 54,
   "id": "9e260265",
   "metadata": {},
   "outputs": [
    {
     "data": {
      "text/plain": [
       "  ficar feliz q recíproco emocaopositiva"
      ]
     },
     "execution_count": 54,
     "metadata": {},
     "output_type": "execute_result"
    }
   ],
   "source": [
    "previsao = modelo_carregado(texto_positivo)\n",
    "previsao"
   ]
  },
  {
   "cell_type": "code",
   "execution_count": 55,
   "id": "e0ec96d6",
   "metadata": {},
   "outputs": [
    {
     "data": {
      "text/plain": [
       "{'POSITIVO': 0.9999545812606812, 'NEGATIVO': 4.539787187241018e-05}"
      ]
     },
     "execution_count": 55,
     "metadata": {},
     "output_type": "execute_result"
    }
   ],
   "source": [
    "previsao.cats"
   ]
  },
  {
   "cell_type": "code",
   "execution_count": 58,
   "id": "660e5f60",
   "metadata": {},
   "outputs": [
    {
     "data": {
      "text/plain": [
       "'gostar'"
      ]
     },
     "execution_count": 58,
     "metadata": {},
     "output_type": "execute_result"
    }
   ],
   "source": [
    "texto_positivo = 'eu gosto muito de você'\n",
    "texto_positivo = preprocessamento(texto_positivo)\n",
    "texto_positivo"
   ]
  },
  {
   "cell_type": "code",
   "execution_count": 59,
   "id": "05cc746e",
   "metadata": {},
   "outputs": [
    {
     "data": {
      "text/plain": [
       "{'POSITIVO': 0.023751061409711838, 'NEGATIVO': 0.9931586384773254}"
      ]
     },
     "execution_count": 59,
     "metadata": {},
     "output_type": "execute_result"
    }
   ],
   "source": [
    "modelo_carregado(texto_positivo).cats"
   ]
  },
  {
   "cell_type": "markdown",
   "id": "faf7a322",
   "metadata": {},
   "source": [
    "### Texto negativo"
   ]
  },
  {
   "cell_type": "code",
   "execution_count": 60,
   "id": "53a290db",
   "metadata": {},
   "outputs": [
    {
     "data": {
      "text/plain": [
       "'tô triste filmar mulan o mushu emocaonegativa'"
      ]
     },
     "execution_count": 60,
     "metadata": {},
     "output_type": "execute_result"
    }
   ],
   "source": [
    "base_teste['tweet_text'][4000]"
   ]
  },
  {
   "cell_type": "code",
   "execution_count": 61,
   "id": "9971885d",
   "metadata": {},
   "outputs": [
    {
     "data": {
      "text/plain": [
       "{'POSITIVO': 0.00010711907816585153, 'NEGATIVO': 0.9999526739120483}"
      ]
     },
     "execution_count": 61,
     "metadata": {},
     "output_type": "execute_result"
    }
   ],
   "source": [
    "texto_negativo = base_teste['tweet_text'][4000]\n",
    "previsao = modelo_carregado(texto_negativo)\n",
    "previsao.cats"
   ]
  },
  {
   "cell_type": "markdown",
   "id": "a5f6a7ec",
   "metadata": {},
   "source": [
    "### Etapa 7: Avaliação de treinamento"
   ]
  },
  {
   "cell_type": "markdown",
   "id": "126da6ff",
   "metadata": {},
   "source": [
    "### Avaliação na base de teste"
   ]
  },
  {
   "cell_type": "code",
   "execution_count": 62,
   "id": "7801c4fa",
   "metadata": {},
   "outputs": [],
   "source": [
    "previsoes = []\n",
    "for texto in base_teste['tweet_text']:\n",
    "    previsao = modelo_carregado(texto)\n",
    "    previsoes.append(previsao.cats)"
   ]
  },
  {
   "cell_type": "code",
   "execution_count": 63,
   "id": "44e90239",
   "metadata": {},
   "outputs": [],
   "source": [
    "previsoes_final = []\n",
    "for previsao in previsoes:\n",
    "    if previsao['POSITIVO'] > previsao['NEGATIVO']:\n",
    "        previsoes_final.append(1)\n",
    "    else:\n",
    "        previsoes_final.append(0)\n",
    "\n",
    "previsoes_final = np.array(previsoes_final)"
   ]
  },
  {
   "cell_type": "code",
   "execution_count": 64,
   "id": "d5f8a8b6",
   "metadata": {},
   "outputs": [],
   "source": [
    "respostas_reais = base_teste['sentiment'].values"
   ]
  },
  {
   "cell_type": "code",
   "execution_count": 66,
   "id": "1b0aa6f8",
   "metadata": {},
   "outputs": [
    {
     "data": {
      "text/plain": [
       "0.9978"
      ]
     },
     "execution_count": 66,
     "metadata": {},
     "output_type": "execute_result"
    }
   ],
   "source": [
    "from sklearn.metrics import confusion_matrix, accuracy_score\n",
    "accuracy_score(respostas_reais, previsoes_final)"
   ]
  },
  {
   "cell_type": "code",
   "execution_count": 67,
   "id": "c2f12075",
   "metadata": {},
   "outputs": [
    {
     "data": {
      "text/plain": [
       "array([[2494,    6],\n",
       "       [   5, 2495]], dtype=int64)"
      ]
     },
     "execution_count": 67,
     "metadata": {},
     "output_type": "execute_result"
    }
   ],
   "source": [
    "cm = confusion_matrix(respostas_reais, previsoes_final)\n",
    "cm"
   ]
  },
  {
   "cell_type": "code",
   "execution_count": 69,
   "id": "68b973b1",
   "metadata": {},
   "outputs": [
    {
     "data": {
      "text/plain": [
       "<AxesSubplot:>"
      ]
     },
     "execution_count": 69,
     "metadata": {},
     "output_type": "execute_result"
    },
    {
     "data": {
      "image/png": "[encoded data removed]",
      "text/plain": [
       "<Figure size 432x288 with 2 Axes>"
      ]
     },
     "metadata": {
      "needs_background": "light"
     },
     "output_type": "display_data"
    }
   ],
   "source": [
    "sns.heatmap(cm, annot=True, fmt=\"d\")"
   ]
  }
 ],
 "metadata": {
  "kernelspec": {
   "display_name": "Python 3 (ipykernel)",
   "language": "python",
   "name": "python3"
  },
  "language_info": {
   "codemirror_mode": {
    "name": "ipython",
    "version": 3
   },
   "file_extension": ".py",
   "mimetype": "text/x-python",
   "name": "python",
   "nbconvert_exporter": "python",
   "pygments_lexer": "ipython3",
   "version": "3.7.11"
  }
 },
 "nbformat": 4,
 "nbformat_minor": 5
}
